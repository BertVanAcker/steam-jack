{
 "cells": [
  {
   "cell_type": "markdown",
   "id": "0628aec1",
   "metadata": {},
   "source": [
    "# Markdown test\n",
    "Introduction text, this can be formatted using the markdown language."
   ]
  },
  {
   "cell_type": "markdown",
   "id": "b8c4db85",
   "metadata": {},
   "source": [
    "## Code test\n",
    "this is a very long code description if I had the energy to type more and more ...\n",
    "\n",
    "<img src=\"Assets/mtiny.png\" alt=\"mTiny\" width=\"100\" height=\"100\">"
   ]
  },
  {
   "cell_type": "code",
   "execution_count": null,
   "id": "14eb20ee",
   "metadata": {},
   "outputs": [],
   "source": [
    "print('Hello World!')\n",
    "print('second line of code')"
   ]
  }
 ],
 "metadata": {},
 "nbformat": 4,
 "nbformat_minor": 5
}
