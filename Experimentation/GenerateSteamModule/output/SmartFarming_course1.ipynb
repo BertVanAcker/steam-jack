{
 "cells": [
  {
   "cell_type": "markdown",
   "id": "02a1ad7f",
   "metadata": {},
   "source": [
    "# Smart Farming STEAM module - Bodemvochtigheid\n",
    "<img src=\"assets/smartfarming.jpg\" alt=\"smartfarming\" width=\"500\" height=\"300\">\n",
    "\n",
    "Dit is een korte introductie voor een STEAM module.\n",
    "Deze bevat telkens een algemene tekst met een teaser figuur."
   ]
  },
  {
   "cell_type": "markdown",
   "id": "a9611b47",
   "metadata": {},
   "source": [
    "## Smart Farming STEAM module - Bodemvochtigheid\n",
    "<img src=\"assets/smartfarming.jpg\" alt=\"smartfarming\" width=\"500\" height=\"300\">\n",
    "\n",
    "Dit is een korte introductie voor een STEAM module.\n",
    "Deze bevat telkens een algemene tekst met een teaser figuur."
   ]
  },
  {
   "cell_type": "markdown",
   "id": "de27dc12",
   "metadata": {},
   "source": [
    "## Smart Farming STEAM module - Bodemvochtigheid\n",
    "<img src=\"assets/smartfarming.jpg\" alt=\"smartfarming\" width=\"500\" height=\"300\">\n",
    "\n",
    "Dit is een korte introductie voor een STEAM module.\n",
    "Deze bevat telkens een algemene tekst met een teaser figuur."
   ]
  }
 ],
 "metadata": {},
 "nbformat": 4,
 "nbformat_minor": 5
}
