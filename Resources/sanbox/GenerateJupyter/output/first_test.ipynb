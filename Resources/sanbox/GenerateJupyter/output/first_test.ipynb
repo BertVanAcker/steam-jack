{
 "cells": [
  {
   "cell_type": "markdown",
   "id": "f242476f",
   "metadata": {},
   "source": [
    "#Markdown test<br>Introduction text, this can be formatted using the markdown language."
   ]
  },
  {
   "cell_type": "code",
   "execution_count": null,
   "id": "98c5e6c2",
   "metadata": {},
   "outputs": [],
   "source": [
    "#Code test<br>print('Hello World!')"
   ]
  }
 ],
 "metadata": {},
 "nbformat": 4,
 "nbformat_minor": 5
}
