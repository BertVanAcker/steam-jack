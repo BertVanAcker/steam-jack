{
 "cells": [
  {
   "cell_type": "markdown",
   "id": "4287d046",
   "metadata": {},
   "source": [
    "#Markdown test       # My first automatic Jupyter Notebook\n",
    "       This is an auto-generated notebook."
   ]
  },
  {
   "cell_type": "code",
   "execution_count": null,
   "id": "b0787cba",
   "metadata": {},
   "outputs": [],
   "source": [
    "#Code test        %pylab inline\n",
    "        hist(normal(size=2000), bins=50);"
   ]
  }
 ],
 "metadata": {},
 "nbformat": 4,
 "nbformat_minor": 5
}
