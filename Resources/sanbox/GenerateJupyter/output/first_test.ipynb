{
 "cells": [
  {
   "cell_type": "markdown",
   "id": "2bdb345f",
   "metadata": {},
   "source": [
    "# Markdown test\n",
    "Introduction text, this can be formatted using the markdown language."
   ]
  },
  {
   "cell_type": "markdown",
   "id": "9ed24db7",
   "metadata": {},
   "source": [
    "## Code test\n",
    " this is a very\n",
    "                        long code description if I had the\n",
    "                        energy to type more and more ..."
   ]
  },
  {
   "cell_type": "code",
   "execution_count": null,
   "id": "8aa82e56",
   "metadata": {},
   "outputs": [],
   "source": [
    " print('Hello World!')\n",
    "print('second line of code')"
   ]
  }
 ],
 "metadata": {},
 "nbformat": 4,
 "nbformat_minor": 5
}
