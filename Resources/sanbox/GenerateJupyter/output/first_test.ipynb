{
 "cells": [
  {
   "cell_type": "markdown",
   "id": "7584bbe4",
   "metadata": {},
   "source": [
    "# Markdown test\n",
    "Introduction text, this can be formatted using the markdown language."
   ]
  },
  {
   "cell_type": "markdown",
   "id": "bcaaeacd",
   "metadata": {},
   "source": [
    "## Code test\n",
    "this is a very long code description if I had the energy to type more and more ...\n",
    "\n",
    "<div> <img src=\"assets/mtiny.png\" alt=\"mTiny\" style=\"width: 10px;\"/></div> "
   ]
  },
  {
   "cell_type": "code",
   "execution_count": null,
   "id": "f0d9b142",
   "metadata": {},
   "outputs": [],
   "source": [
    "print('Hello World!')\n",
    "print('second line of code')"
   ]
  }
 ],
 "metadata": {},
 "nbformat": 4,
 "nbformat_minor": 5
}
