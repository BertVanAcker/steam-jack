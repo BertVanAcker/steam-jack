{
 "cells": [
  {
   "cell_type": "markdown",
   "id": "78e436b6",
   "metadata": {},
   "source": [
    "# Markdown test\n",
    "Introduction text, this can be formatted using the markdown language."
   ]
  },
  {
   "cell_type": "markdown",
   "id": "b9246336",
   "metadata": {},
   "source": [
    "# Code test\n",
    " this is a very\n",
    "                        long code description if I had the\n",
    "                        energy to type more and more ..."
   ]
  },
  {
   "cell_type": "code",
   "execution_count": null,
   "id": "985305bd",
   "metadata": {},
   "outputs": [],
   "source": [
    "print('Hello World!')"
   ]
  }
 ],
 "metadata": {},
 "nbformat": 4,
 "nbformat_minor": 5
}
