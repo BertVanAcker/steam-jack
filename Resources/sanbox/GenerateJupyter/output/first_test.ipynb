{
 "cells": [
  {
   "cell_type": "markdown",
   "id": "8e82ef05",
   "metadata": {},
   "source": [
    "# Markdown test\n",
    "Introduction text, this can be formatted using the markdown language."
   ]
  },
  {
   "cell_type": "markdown",
   "id": "4e393a84",
   "metadata": {},
   "source": [
    "## Code test\n",
    "this is a very long code description if I had the energy to type more and more ...\n",
    "\n",
    "![Example image](assets/mtiny.png)\n",
    "<div> <img src=\"assets/mtiny.png\" alt=\"mTiny\" style=\"width: 200px;\"/></div> "
   ]
  },
  {
   "cell_type": "code",
   "execution_count": null,
   "id": "611395da",
   "metadata": {},
   "outputs": [],
   "source": [
    "print('Hello World!')\n",
    "print('second line of code')"
   ]
  }
 ],
 "metadata": {},
 "nbformat": 4,
 "nbformat_minor": 5
}
