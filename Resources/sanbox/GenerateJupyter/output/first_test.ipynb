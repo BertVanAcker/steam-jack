{
 "cells": [
  {
   "cell_type": "markdown",
   "id": "85c8c019",
   "metadata": {},
   "source": [
    "# Markdown test\n",
    ",\n",
    ",Introduction text, this can be formatted using the markdown language."
   ]
  },
  {
   "cell_type": "markdown",
   "id": "f2fb55df",
   "metadata": {},
   "source": [
    "# Code test\n",
    ",\n",
    "Description placeholder"
   ]
  },
  {
   "cell_type": "code",
   "execution_count": null,
   "id": "ab30f6c6",
   "metadata": {},
   "outputs": [],
   "source": [
    "print('Hello World!')"
   ]
  }
 ],
 "metadata": {},
 "nbformat": 4,
 "nbformat_minor": 5
}
