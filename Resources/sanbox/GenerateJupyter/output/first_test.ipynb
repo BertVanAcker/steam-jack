{
 "cells": [
  {
   "cell_type": "markdown",
   "id": "1103508f",
   "metadata": {},
   "source": [
    "# Markdown test\n",
    "Introduction text, this can be formatted using the markdown language."
   ]
  },
  {
   "cell_type": "markdown",
   "id": "401a476b",
   "metadata": {},
   "source": [
    "## Code test\n",
    "this is a very long code description if I had the energy to type more and more ...\n",
    "\n",
    "<img src=\"assets/mtiny.png\" alt=\"mTiny\" width=\"100\" height=\"100\">"
   ]
  },
  {
   "cell_type": "code",
   "execution_count": null,
   "id": "0665b775",
   "metadata": {},
   "outputs": [],
   "source": [
    "print('Hello World!')\n",
    "print('second line of code')"
   ]
  }
 ],
 "metadata": {},
 "nbformat": 4,
 "nbformat_minor": 5
}
