{
 "cells": [
  {
   "cell_type": "markdown",
   "id": "91ff4bd0",
   "metadata": {},
   "source": [
    "# Markdown test\n",
    "Introduction text, this can be formatted using the markdown language."
   ]
  },
  {
   "cell_type": "markdown",
   "id": "1b891bca",
   "metadata": {},
   "source": [
    "## Code test\n",
    "this is a very long code description if I had the energy to type more and more ...\n",
    "![Example image](assets/mtiny.png)"
   ]
  },
  {
   "cell_type": "code",
   "execution_count": null,
   "id": "0565a3ab",
   "metadata": {},
   "outputs": [],
   "source": [
    "print('Hello World!')\n",
    "print('second line of code')"
   ]
  }
 ],
 "metadata": {},
 "nbformat": 4,
 "nbformat_minor": 5
}
