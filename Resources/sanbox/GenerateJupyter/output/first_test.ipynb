{
 "cells": [
  {
   "cell_type": "markdown",
   "id": "5f1759fa",
   "metadata": {},
   "source": [
    "# Markdown test\n",
    "Introduction text, this can be formatted using the markdown language."
   ]
  },
  {
   "cell_type": "markdown",
   "id": "13de2d4e",
   "metadata": {},
   "source": [
    "## Code test\n",
    " this is a very\n",
    "                        long code description if I had the\n",
    "                        energy to type more and more ..."
   ]
  },
  {
   "cell_type": "code",
   "execution_count": null,
   "id": "0d046d08",
   "metadata": {},
   "outputs": [],
   "source": [
    " print('Hello World!')\n",
    "\n",
    "           print('second line of code')"
   ]
  }
 ],
 "metadata": {},
 "nbformat": 4,
 "nbformat_minor": 5
}
