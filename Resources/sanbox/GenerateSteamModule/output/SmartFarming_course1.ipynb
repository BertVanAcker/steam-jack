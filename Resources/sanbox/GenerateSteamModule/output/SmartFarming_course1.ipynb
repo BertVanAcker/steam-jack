{
 "cells": [
  {
   "cell_type": "markdown",
   "id": "8f88c725",
   "metadata": {},
   "source": [
    "# Smart Farming STEAM module - Bodemvochtigheid\n",
    "<img src=\"assets/smartfarming.jpg\" alt=\"smartfarming\" width=\"500\" height=\"300\">\n",
    "\n",
    "Dit is een korte introductie voor een STEAM module.\n",
    "Deze bevat telkens een algemene tekst met een teaser figuur."
   ]
  },
  {
   "cell_type": "markdown",
   "id": "252591f0",
   "metadata": {},
   "source": [
    "## Smart Farming STEAM module - Bodemvochtigheid\n",
    "<img src=\"assets/smartfarming.jpg\" alt=\"smartfarming\" width=\"500\" height=\"300\">\n",
    "\n",
    "Dit is een korte introductie voor een STEAM module.\n",
    "Deze bevat telkens een algemene tekst met een teaser figuur."
   ]
  },
  {
   "cell_type": "markdown",
   "id": "00a468ae",
   "metadata": {},
   "source": [
    "## Smart Farming STEAM module - Bodemvochtigheid\n",
    "<img src=\"assets/bulb.gif\" alt=\"bulb\" width=\"500\" height=\"300\">\n",
    "\n",
    "Dit is een korte introductie voor een STEAM module.\n",
    "Deze bevat telkens een algemene tekst met een teaser figuur."
   ]
  }
 ],
 "metadata": {},
 "nbformat": 4,
 "nbformat_minor": 5
}
