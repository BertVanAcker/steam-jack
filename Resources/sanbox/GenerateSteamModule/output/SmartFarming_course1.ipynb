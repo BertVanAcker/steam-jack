{
 "cells": [
  {
   "cell_type": "markdown",
   "id": "3c236c70",
   "metadata": {},
   "source": [
    "# Smart Farming STEAM module - Bodemvochtigheid\n",
    "<img src=\"assets/smartfarming.jpg\" alt=\"smartfarming\" width=\"500\" height=\"300\">\n",
    "Dit is een korte introductie voor een STEAM module.\\n\n",
    "Deze bevat telkens een algemene tekst met een teaser figuur.\\n"
   ]
  },
  {
   "cell_type": "markdown",
   "id": "082bc35a",
   "metadata": {},
   "source": [
    "## Smart Farming STEAM module - Bodemvochtigheid\n",
    "<img src=\"assets/smartfarming.jpg\" alt=\"smartfarming\" width=\"500\" height=\"300\">\n",
    "Dit is een korte introductie voor een STEAM module.\\n\n",
    "Deze bevat telkens een algemene tekst met een teaser figuur.\\n"
   ]
  },
  {
   "cell_type": "markdown",
   "id": "a98f8946",
   "metadata": {},
   "source": [
    "## Smart Farming STEAM module - Bodemvochtigheid\n",
    "<img src=\"assets/smartfarming.jpg\" alt=\"smartfarming\" width=\"500\" height=\"300\">\n",
    "Dit is een korte introductie voor een STEAM module.\\n\n",
    "Deze bevat telkens een algemene tekst met een teaser figuur.\\n"
   ]
  }
 ],
 "metadata": {},
 "nbformat": 4,
 "nbformat_minor": 5
}
