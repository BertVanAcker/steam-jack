{
 "cells": [
  {
   "cell_type": "markdown",
   "id": "ad655dc0",
   "metadata": {},
   "source": [
    "# Smart Farming STEAM module - Bodemvochtigheid\n",
    "<img src=\"assets/smartfarming.jpg\" alt=\"smartfarming\" width=\"500\" height=\"300\">\\n\n",
    "Dit is een korte introductie voor een STEAM module.\\n\n",
    "Deze bevat telkens een algemene tekst met een teaser figuur."
   ]
  },
  {
   "cell_type": "markdown",
   "id": "b70a1da9",
   "metadata": {},
   "source": [
    "## Smart Farming STEAM module - Bodemvochtigheid\n",
    "<img src=\"assets/smartfarming.jpg\" alt=\"smartfarming\" width=\"500\" height=\"300\">\\n\n",
    "Dit is een korte introductie voor een STEAM module.\\n\n",
    "Deze bevat telkens een algemene tekst met een teaser figuur."
   ]
  },
  {
   "cell_type": "markdown",
   "id": "8af5880d",
   "metadata": {},
   "source": [
    "## Smart Farming STEAM module - Bodemvochtigheid\n",
    "<img src=\"assets/smartfarming.jpg\" alt=\"smartfarming\" width=\"500\" height=\"300\">\\n\n",
    "Dit is een korte introductie voor een STEAM module.\\n\n",
    "Deze bevat telkens een algemene tekst met een teaser figuur."
   ]
  }
 ],
 "metadata": {},
 "nbformat": 4,
 "nbformat_minor": 5
}
